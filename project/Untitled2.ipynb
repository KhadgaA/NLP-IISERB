{
 "cells": [
  {
   "cell_type": "code",
   "execution_count": 5,
   "id": "dbac589b-4dd8-457c-ad61-001db440a84d",
   "metadata": {},
   "outputs": [],
   "source": [
    "import pandas as pd\n",
    "from sklearn.feature_extraction.text import CountVectorizer\n",
    "from nltk import PorterStemmer"
   ]
  },
  {
   "cell_type": "code",
   "execution_count": 11,
   "id": "25f7eef7-ae27-4883-bb20-5f9425c50eef",
   "metadata": {},
   "outputs": [
    {
     "name": "stdout",
     "output_type": "stream",
     "text": [
      "['amina', 'better', 'cours', 'in', 'nlp', 'perform', 'shyam', 'than']\n",
      "   amina  better  cours  in  nlp  perform  shyam  than\n",
      "0      1       1      1   1    1        1      1     1\n",
      "1      1       1      1   1    1        1      1     1\n"
     ]
    },
    {
     "name": "stderr",
     "output_type": "stream",
     "text": [
      "C:\\Users\\KHADGA JYOTH ALLI\\anaconda3\\lib\\site-packages\\sklearn\\utils\\deprecation.py:87: FutureWarning: Function get_feature_names is deprecated; get_feature_names is deprecated in 1.0 and will be removed in 1.2. Please use get_feature_names_out instead.\n",
      "  warnings.warn(msg, category=FutureWarning)\n"
     ]
    }
   ],
   "source": [
    "sentence_1=\"Shyam performed better than Amina in NLP course\"\n",
    "sentence_2=\"Amina performed better than Shyam in NLP course\"\n",
    "analyzer = CountVectorizer().build_analyzer()\n",
    "def stemmed_words(doc):\n",
    "    return (PorterStemmer().stem(w) for w in analyzer(doc))\n",
    "CountVec =CountVectorizer(stop_words='english',analyzer=stemmed_words,ngram_range=(3,3))\n",
    "# Transform\n",
    "Count_data = CountVec.fit_transform([sentence_1,sentence_2])\n",
    "print(CountVec.get_feature_names())\n",
    "#create dataframe\n",
    "cv_dataframe=pd.DataFrame(Count_data.toarray(),columns=CountVec.get_feature_names())\n",
    "print(cv_dataframe)"
   ]
  },
  {
   "cell_type": "code",
   "execution_count": 12,
   "id": "76fbdfe4-d1c8-4556-b609-d079ad0722c4",
   "metadata": {},
   "outputs": [
    {
     "name": "stdout",
     "output_type": "stream",
     "text": [
      "      amina    better    course      data  elective  engineering       nlp  \\\n",
      "0  0.000000  0.000000  0.419880  0.000000  0.804612     0.000000  0.419880   \n",
      "1  0.000000  0.000000  0.189985  0.728133  0.000000     0.364067  0.189985   \n",
      "2  0.452855  0.452855  0.299740  0.000000  0.000000     0.000000  0.299740   \n",
      "3  0.452855  0.452855  0.299740  0.000000  0.000000     0.000000  0.299740   \n",
      "\n",
      "   performed  relevant   science     shyam  \n",
      "0   0.000000  0.000000  0.000000  0.000000  \n",
      "1   0.000000  0.364067  0.364067  0.000000  \n",
      "2   0.452855  0.000000  0.000000  0.452855  \n",
      "3   0.452855  0.000000  0.000000  0.452855  \n"
     ]
    },
    {
     "name": "stderr",
     "output_type": "stream",
     "text": [
      "C:\\Users\\KHADGA JYOTH ALLI\\anaconda3\\lib\\site-packages\\sklearn\\utils\\deprecation.py:87: FutureWarning: Function get_feature_names is deprecated; get_feature_names is deprecated in 1.0 and will be removed in 1.2. Please use get_feature_names_out instead.\n",
      "  warnings.warn(msg, category=FutureWarning)\n"
     ]
    }
   ],
   "source": [
    "from sklearn.feature_extraction.text import TfidfVectorizer\n",
    "corpus = [\n",
    "\n",
    "'NLP is an elective course',\n",
    "'NLP course is relevant for data science and data engineering',\n",
    "'Shyam performed better than Amina in NLP course',\n",
    "'Amina performed better than Shyam in NLP course',\n",
    "]\n",
    "\n",
    "vectorizer = TfidfVectorizer(stop_words='english',ngram_range=(1,1))\n",
    "X = vectorizer.fit_transform(corpus)\n",
    "#create dataframe\n",
    "cv_dataframe=pd.DataFrame(X.toarray(),columns=vectorizer.get_feature_names())\n",
    "print(cv_dataframe)"
   ]
  },
  {
   "cell_type": "code",
   "execution_count": null,
   "id": "b7382cf4-fed0-47cb-8ef3-4bd5c4a43ab6",
   "metadata": {},
   "outputs": [],
   "source": []
  }
 ],
 "metadata": {
  "kernelspec": {
   "display_name": "Python 3 (ipykernel)",
   "language": "python",
   "name": "python3"
  },
  "language_info": {
   "codemirror_mode": {
    "name": "ipython",
    "version": 3
   },
   "file_extension": ".py",
   "mimetype": "text/x-python",
   "name": "python",
   "nbconvert_exporter": "python",
   "pygments_lexer": "ipython3",
   "version": "3.9.12"
  }
 },
 "nbformat": 4,
 "nbformat_minor": 5
}

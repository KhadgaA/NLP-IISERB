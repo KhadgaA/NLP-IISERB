{
 "cells": [
  {
   "cell_type": "code",
   "execution_count": 1,
   "id": "4a1087ab-11a9-424a-a1ff-e65ccfff56ba",
   "metadata": {},
   "outputs": [],
   "source": [
    "import nltk"
   ]
  },
  {
   "cell_type": "code",
   "execution_count": 10,
   "id": "7ea5bbca-ef83-40fd-8321-3036c64e9299",
   "metadata": {},
   "outputs": [],
   "source": [
    "# nltk.download()"
   ]
  },
  {
   "cell_type": "code",
   "execution_count": 11,
   "id": "466dcd91-b46a-4d92-b1ff-42a52371b410",
   "metadata": {},
   "outputs": [],
   "source": [
    "from nltk.tokenize import word_tokenize,sent_tokenize,wordpunct_tokenize,TreebankWordTokenizer,TweetTokenizer"
   ]
  },
  {
   "cell_type": "code",
   "execution_count": 71,
   "id": "d08ef87e-9c75-42b7-91db-879cabc21e18",
   "metadata": {},
   "outputs": [],
   "source": [
    "text = \"Let me know your mobile#, if that's fine? The call rate is 1.2p/s 🤣.\""
   ]
  },
  {
   "cell_type": "code",
   "execution_count": 72,
   "id": "b468b128-a00d-44f7-883d-738e50246c2c",
   "metadata": {},
   "outputs": [
    {
     "data": {
      "text/plain": [
       "['Let',\n",
       " 'me',\n",
       " 'know',\n",
       " 'your',\n",
       " 'mobile',\n",
       " '#',\n",
       " ',',\n",
       " 'if',\n",
       " 'that',\n",
       " \"'s\",\n",
       " 'fine',\n",
       " '?',\n",
       " 'The',\n",
       " 'call',\n",
       " 'rate',\n",
       " 'is',\n",
       " '1.2p/s',\n",
       " '🤣',\n",
       " '.']"
      ]
     },
     "execution_count": 72,
     "metadata": {},
     "output_type": "execute_result"
    }
   ],
   "source": [
    "word_tokenize(text)"
   ]
  },
  {
   "cell_type": "code",
   "execution_count": 73,
   "id": "f6c717cf-e2fe-451d-8010-eaf8ff730f32",
   "metadata": {},
   "outputs": [
    {
     "data": {
      "text/plain": [
       "[\"Let me know your mobile#, if that's fine?\", 'The call rate is 1.2p/s 🤣.']"
      ]
     },
     "execution_count": 73,
     "metadata": {},
     "output_type": "execute_result"
    }
   ],
   "source": [
    "sent_tokenize(text)"
   ]
  },
  {
   "cell_type": "code",
   "execution_count": 74,
   "id": "afc3f0a7-78ba-4941-aa85-228f5f33d167",
   "metadata": {},
   "outputs": [
    {
     "data": {
      "text/plain": [
       "['Let',\n",
       " 'me',\n",
       " 'know',\n",
       " 'your',\n",
       " 'mobile',\n",
       " '#,',\n",
       " 'if',\n",
       " 'that',\n",
       " \"'\",\n",
       " 's',\n",
       " 'fine',\n",
       " '?',\n",
       " 'The',\n",
       " 'call',\n",
       " 'rate',\n",
       " 'is',\n",
       " '1',\n",
       " '.',\n",
       " '2p',\n",
       " '/',\n",
       " 's',\n",
       " '🤣.']"
      ]
     },
     "execution_count": 74,
     "metadata": {},
     "output_type": "execute_result"
    }
   ],
   "source": [
    "wordpunct_tokenize(text)"
   ]
  },
  {
   "cell_type": "code",
   "execution_count": 75,
   "id": "bbdc2104-62b3-4259-bec3-807ccd8c0561",
   "metadata": {},
   "outputs": [
    {
     "data": {
      "text/plain": [
       "['Let',\n",
       " 'me',\n",
       " 'know',\n",
       " 'your',\n",
       " 'mobile',\n",
       " '#',\n",
       " ',',\n",
       " 'if',\n",
       " 'that',\n",
       " \"'s\",\n",
       " 'fine',\n",
       " '?',\n",
       " 'The',\n",
       " 'call',\n",
       " 'rate',\n",
       " 'is',\n",
       " '1.2p/s',\n",
       " '🤣',\n",
       " '.']"
      ]
     },
     "execution_count": 75,
     "metadata": {},
     "output_type": "execute_result"
    }
   ],
   "source": [
    "TreebankWordTokenizer().tokenize(text)"
   ]
  },
  {
   "cell_type": "code",
   "execution_count": 78,
   "id": "b1dd87c4-0a79-440e-af92-ffd7497db2cd",
   "metadata": {},
   "outputs": [
    {
     "data": {
      "text/plain": [
       "['Let',\n",
       " 'me',\n",
       " 'know',\n",
       " 'your',\n",
       " 'mobile',\n",
       " '#',\n",
       " ',',\n",
       " 'if',\n",
       " \"that's\",\n",
       " 'fine',\n",
       " '?',\n",
       " 'The',\n",
       " 'call',\n",
       " 'rate',\n",
       " 'is',\n",
       " '1.2',\n",
       " 'p',\n",
       " '/',\n",
       " 's',\n",
       " '🤣',\n",
       " '.']"
      ]
     },
     "execution_count": 78,
     "metadata": {},
     "output_type": "execute_result"
    }
   ],
   "source": [
    "TweetTokenizer().tokenize(text)"
   ]
  },
  {
   "cell_type": "code",
   "execution_count": null,
   "id": "4073bf8c-b8cd-4cc8-813a-86808c456ea3",
   "metadata": {},
   "outputs": [],
   "source": [
    "😍😍😍😍😍🤣🤣🤣❤️❤️❤️"
   ]
  }
 ],
 "metadata": {
  "kernelspec": {
   "display_name": "Python 3 (ipykernel)",
   "language": "python",
   "name": "python3"
  },
  "language_info": {
   "codemirror_mode": {
    "name": "ipython",
    "version": 3
   },
   "file_extension": ".py",
   "mimetype": "text/x-python",
   "name": "python",
   "nbconvert_exporter": "python",
   "pygments_lexer": "ipython3",
   "version": "3.9.12"
  }
 },
 "nbformat": 4,
 "nbformat_minor": 5
}

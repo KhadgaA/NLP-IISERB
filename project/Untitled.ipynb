{
 "cells": [
  {
   "cell_type": "code",
   "execution_count": 1,
   "id": "ca1b0f0c-18b2-4373-a389-e1da8c9ebca3",
   "metadata": {},
   "outputs": [],
   "source": [
    "# !pip install nltk    \n",
    "# !pip install emoji        \n",
    "# !pip install autocorrect "
   ]
  },
  {
   "cell_type": "code",
   "execution_count": 1,
   "id": "c56e95df-2eab-4f46-9e32-52340104c1b5",
   "metadata": {
    "scrolled": true,
    "tags": []
   },
   "outputs": [],
   "source": [
    "import nltk\n",
    "# nltk.download('punkt')  # for using word_tokenizer\n",
    "# nltk.download('wordnet')  # for using Lemmatizer\n",
    "# nltk.download('averaged_perceptron_tagger') # for language processing i.e tagging words with their parts of speech (POS)\n",
    "# nltk.download('all-corpora')"
   ]
  },
  {
   "cell_type": "code",
   "execution_count": 2,
   "id": "7572c408-d287-411c-92d3-a952fcbda00c",
   "metadata": {},
   "outputs": [],
   "source": [
    "# !pip install patool\n",
    "# import patoolib\n",
    "# patoolib.extract_archive('project1-20220917T122141Z-001.zip',outdir='data')"
   ]
  },
  {
   "cell_type": "code",
   "execution_count": 3,
   "id": "d2b556c2-96e0-437e-850b-92e63d892e6f",
   "metadata": {},
   "outputs": [],
   "source": [
    "import re   # regular expression\n",
    "import string\n",
    "import emoji\n",
    "import time\n",
    "from autocorrect import Speller   # for correcting spelling\n",
    "from nltk.tokenize import word_tokenize    # for tokenizing string into words\n",
    "from nltk.stem import WordNetLemmatizer    # for lemmatizing words\n",
    "from nltk.tag import pos_tag # for tagging words with their parts of speech (POS)"
   ]
  },
  {
   "cell_type": "code",
   "execution_count": 4,
   "id": "8beaf5ee-935d-4513-8f9e-41f049803c89",
   "metadata": {},
   "outputs": [],
   "source": [
    "import pandas as pd\n",
    "import numpy as np\n",
    "import time"
   ]
  },
  {
   "cell_type": "code",
   "execution_count": 5,
   "id": "8ed48042-d3a1-4bf4-8312-289d916fd177",
   "metadata": {},
   "outputs": [
    {
     "name": "stderr",
     "output_type": "stream",
     "text": [
      "b'Skipping line 36926: expected 4 fields, saw 5\\nSkipping line 72352: expected 4 fields, saw 5\\nSkipping line 104352: expected 4 fields, saw 5\\n'\n",
      "b'Skipping line 202373: expected 4 fields, saw 5\\nSkipping line 207923: expected 4 fields, saw 5\\n'\n",
      "b'Skipping line 309632: expected 4 fields, saw 5\\n'\n",
      "b'Skipping line 409346: expected 4 fields, saw 5\\n'\n",
      "b'Skipping line 651860: expected 4 fields, saw 5\\n'\n",
      "b'Skipping line 664720: expected 4 fields, saw 5\\nSkipping line 734905: expected 4 fields, saw 5\\n'\n",
      "b'Skipping line 790510: expected 4 fields, saw 5\\n'\n"
     ]
    }
   ],
   "source": [
    "df = pd.read_csv('data/project_training_data_with_class_labels.csv',on_bad_lines='warn')"
   ]
  },
  {
   "cell_type": "code",
   "execution_count": 6,
   "id": "d5fa492b-e489-4abd-b850-26be4651defe",
   "metadata": {},
   "outputs": [
    {
     "name": "stdout",
     "output_type": "stream",
     "text": [
      "<class 'pandas.core.frame.DataFrame'>\n",
      "RangeIndex: 808090 entries, 0 to 808089\n",
      "Data columns (total 4 columns):\n",
      " #   Column           Non-Null Count   Dtype \n",
      "---  ------           --------------   ----- \n",
      " 0   ID               808090 non-null  object\n",
      " 1   Comments         808051 non-null  object\n",
      " 2   Parent Comments  808089 non-null  object\n",
      " 3    Class Labels    808071 non-null  object\n",
      "dtypes: object(4)\n",
      "memory usage: 24.7+ MB\n"
     ]
    }
   ],
   "source": [
    "df.info()"
   ]
  },
  {
   "cell_type": "code",
   "execution_count": 7,
   "id": "b3a8613d-8f7d-4117-9934-cb3925a111bc",
   "metadata": {},
   "outputs": [
    {
     "data": {
      "text/html": [
       "<div>\n",
       "<style scoped>\n",
       "    .dataframe tbody tr th:only-of-type {\n",
       "        vertical-align: middle;\n",
       "    }\n",
       "\n",
       "    .dataframe tbody tr th {\n",
       "        vertical-align: top;\n",
       "    }\n",
       "\n",
       "    .dataframe thead th {\n",
       "        text-align: right;\n",
       "    }\n",
       "</style>\n",
       "<table border=\"1\" class=\"dataframe\">\n",
       "  <thead>\n",
       "    <tr style=\"text-align: right;\">\n",
       "      <th></th>\n",
       "      <th>ID</th>\n",
       "      <th>Comments</th>\n",
       "      <th>Parent Comments</th>\n",
       "      <th>Class Labels</th>\n",
       "    </tr>\n",
       "  </thead>\n",
       "  <tbody>\n",
       "    <tr>\n",
       "      <th>0</th>\n",
       "      <td>ocxtitan</td>\n",
       "      <td>Central Illinois</td>\n",
       "      <td>Jesus; where do you live?</td>\n",
       "      <td>non-sarcastic</td>\n",
       "    </tr>\n",
       "    <tr>\n",
       "      <th>1</th>\n",
       "      <td>LeChuckly</td>\n",
       "      <td>To think - CNN used to be the acronym synonymo...</td>\n",
       "      <td>Even The CNN Staff Is Sick Of The Wall-To-Wall...</td>\n",
       "      <td>non-sarcastic</td>\n",
       "    </tr>\n",
       "    <tr>\n",
       "      <th>2</th>\n",
       "      <td>throwitskrub8</td>\n",
       "      <td>But then again; you have to consider that all ...</td>\n",
       "      <td>agree to that part.It can also mean that gujra...</td>\n",
       "      <td>non-sarcastic</td>\n",
       "    </tr>\n",
       "    <tr>\n",
       "      <th>3</th>\n",
       "      <td>fresherthanyouuu</td>\n",
       "      <td>ughhhhh</td>\n",
       "      <td>If a guy told you he doesn't use social media ...</td>\n",
       "      <td>non-sarcastic</td>\n",
       "    </tr>\n",
       "    <tr>\n",
       "      <th>4</th>\n",
       "      <td>_kushagra</td>\n",
       "      <td>I should've put the</td>\n",
       "      <td>No; it's just a programming bug. After all; th...</td>\n",
       "      <td>sarcastic</td>\n",
       "    </tr>\n",
       "  </tbody>\n",
       "</table>\n",
       "</div>"
      ],
      "text/plain": [
       "                 ID                                           Comments  \\\n",
       "0          ocxtitan                                   Central Illinois   \n",
       "1         LeChuckly  To think - CNN used to be the acronym synonymo...   \n",
       "2     throwitskrub8  But then again; you have to consider that all ...   \n",
       "3  fresherthanyouuu                                            ughhhhh   \n",
       "4         _kushagra                                I should've put the   \n",
       "\n",
       "                                     Parent Comments  Class Labels   \n",
       "0                          Jesus; where do you live?  non-sarcastic  \n",
       "1  Even The CNN Staff Is Sick Of The Wall-To-Wall...  non-sarcastic  \n",
       "2  agree to that part.It can also mean that gujra...  non-sarcastic  \n",
       "3  If a guy told you he doesn't use social media ...  non-sarcastic  \n",
       "4  No; it's just a programming bug. After all; th...      sarcastic  "
      ]
     },
     "execution_count": 7,
     "metadata": {},
     "output_type": "execute_result"
    }
   ],
   "source": [
    "df.head()"
   ]
  },
  {
   "cell_type": "code",
   "execution_count": 10,
   "id": "6c9d93ac-90c0-4df0-9b97-14f75ef2fded",
   "metadata": {},
   "outputs": [
    {
     "data": {
      "text/html": [
       "<div>\n",
       "<style scoped>\n",
       "    .dataframe tbody tr th:only-of-type {\n",
       "        vertical-align: middle;\n",
       "    }\n",
       "\n",
       "    .dataframe tbody tr th {\n",
       "        vertical-align: top;\n",
       "    }\n",
       "\n",
       "    .dataframe thead th {\n",
       "        text-align: right;\n",
       "    }\n",
       "</style>\n",
       "<table border=\"1\" class=\"dataframe\">\n",
       "  <thead>\n",
       "    <tr style=\"text-align: right;\">\n",
       "      <th></th>\n",
       "      <th>Comments</th>\n",
       "      <th>Parent Comments</th>\n",
       "    </tr>\n",
       "  </thead>\n",
       "  <tbody>\n",
       "    <tr>\n",
       "      <th>8917</th>\n",
       "      <td>NaN</td>\n",
       "      <td>Because we have chosen them as sources of mind...</td>\n",
       "    </tr>\n",
       "    <tr>\n",
       "      <th>9396</th>\n",
       "      <td>NaN</td>\n",
       "      <td>woah; thanks.</td>\n",
       "    </tr>\n",
       "    <tr>\n",
       "      <th>9469</th>\n",
       "      <td>NaN</td>\n",
       "      <td>I am just shocked an upstanding group like thi...</td>\n",
       "    </tr>\n",
       "    <tr>\n",
       "      <th>39976</th>\n",
       "      <td>NaN</td>\n",
       "      <td>Bebe is a beautiful &amp;amp; wonderfully gifted f...</td>\n",
       "    </tr>\n",
       "    <tr>\n",
       "      <th>84428</th>\n",
       "      <td>NaN</td>\n",
       "      <td>thanks Democrats.</td>\n",
       "    </tr>\n",
       "    <tr>\n",
       "      <th>88537</th>\n",
       "      <td>NaN</td>\n",
       "      <td>Lol you didn't got it</td>\n",
       "    </tr>\n",
       "    <tr>\n",
       "      <th>127616</th>\n",
       "      <td>NaN</td>\n",
       "      <td>Droids are just objectively better. Doesn't ta...</td>\n",
       "    </tr>\n",
       "    <tr>\n",
       "      <th>172361</th>\n",
       "      <td>NaN</td>\n",
       "      <td>We need a sarcasm font. Or perhaps I'm a retard.</td>\n",
       "    </tr>\n",
       "    <tr>\n",
       "      <th>207469</th>\n",
       "      <td>NaN</td>\n",
       "      <td>Will do. EU or NA?</td>\n",
       "    </tr>\n",
       "    <tr>\n",
       "      <th>231580</th>\n",
       "      <td>NaN</td>\n",
       "      <td>Yes; using game features is an exploit</td>\n",
       "    </tr>\n",
       "    <tr>\n",
       "      <th>289901</th>\n",
       "      <td>NaN</td>\n",
       "      <td>House \"of\" Commons</td>\n",
       "    </tr>\n",
       "    <tr>\n",
       "      <th>312887</th>\n",
       "      <td>NaN</td>\n",
       "      <td>SERIOUSLY?! THIS IS THE FREE ITEM I GOT FOR PL...</td>\n",
       "    </tr>\n",
       "    <tr>\n",
       "      <th>334963</th>\n",
       "      <td>NaN</td>\n",
       "      <td>Are you proposing that the stock market should...</td>\n",
       "    </tr>\n",
       "    <tr>\n",
       "      <th>348402</th>\n",
       "      <td>NaN</td>\n",
       "      <td>Doesn't matter if that experience is garbage</td>\n",
       "    </tr>\n",
       "    <tr>\n",
       "      <th>349834</th>\n",
       "      <td>NaN</td>\n",
       "      <td>Uh; what about that looks like a ghetto to you?</td>\n",
       "    </tr>\n",
       "    <tr>\n",
       "      <th>364333</th>\n",
       "      <td>NaN</td>\n",
       "      <td>No kidding</td>\n",
       "    </tr>\n",
       "    <tr>\n",
       "      <th>364928</th>\n",
       "      <td>NaN</td>\n",
       "      <td>Your favourite lol joke?</td>\n",
       "    </tr>\n",
       "    <tr>\n",
       "      <th>366544</th>\n",
       "      <td>NaN</td>\n",
       "      <td>And thus an universal sarcasm indicator is born.</td>\n",
       "    </tr>\n",
       "    <tr>\n",
       "      <th>401222</th>\n",
       "      <td>NaN</td>\n",
       "      <td>Nah; that's Tux</td>\n",
       "    </tr>\n",
       "    <tr>\n",
       "      <th>414019</th>\n",
       "      <td>NaN</td>\n",
       "      <td>Even if she is under 18 it isn't pornography. ...</td>\n",
       "    </tr>\n",
       "    <tr>\n",
       "      <th>421408</th>\n",
       "      <td>NaN</td>\n",
       "      <td>Because with the newer cell it looks stupid?</td>\n",
       "    </tr>\n",
       "    <tr>\n",
       "      <th>450895</th>\n",
       "      <td>NaN</td>\n",
       "      <td>Valiant sir stands up against the console dron...</td>\n",
       "    </tr>\n",
       "    <tr>\n",
       "      <th>487177</th>\n",
       "      <td>NaN</td>\n",
       "      <td>integrity?</td>\n",
       "    </tr>\n",
       "    <tr>\n",
       "      <th>491552</th>\n",
       "      <td>NaN</td>\n",
       "      <td>There probably won't be master chief Might be ...</td>\n",
       "    </tr>\n",
       "    <tr>\n",
       "      <th>507437</th>\n",
       "      <td>NaN</td>\n",
       "      <td>very true; not all girls like the \"bad boy\"</td>\n",
       "    </tr>\n",
       "    <tr>\n",
       "      <th>578745</th>\n",
       "      <td>NaN</td>\n",
       "      <td>I cant tell if this is sarcasm or not; but so ...</td>\n",
       "    </tr>\n",
       "    <tr>\n",
       "      <th>582988</th>\n",
       "      <td>NaN</td>\n",
       "      <td>Kinda wish the article showed the bridges on t...</td>\n",
       "    </tr>\n",
       "    <tr>\n",
       "      <th>587198</th>\n",
       "      <td>NaN</td>\n",
       "      <td>LPL shitshow; EU LCS shitshow. What isn't a sh...</td>\n",
       "    </tr>\n",
       "    <tr>\n",
       "      <th>634685</th>\n",
       "      <td>NaN</td>\n",
       "      <td>Make sure he doesn't overdose! Too many people...</td>\n",
       "    </tr>\n",
       "    <tr>\n",
       "      <th>635051</th>\n",
       "      <td>NaN</td>\n",
       "      <td>But then no one sees how many active friends y...</td>\n",
       "    </tr>\n",
       "    <tr>\n",
       "      <th>638355</th>\n",
       "      <td>NaN</td>\n",
       "      <td>Pharmacists of Reddit; how much do you judge p...</td>\n",
       "    </tr>\n",
       "    <tr>\n",
       "      <th>638916</th>\n",
       "      <td>NaN</td>\n",
       "      <td>if only there was a way to convey sarcasm thro...</td>\n",
       "    </tr>\n",
       "    <tr>\n",
       "      <th>653687</th>\n",
       "      <td>NaN</td>\n",
       "      <td>Thu 2016-08-04 accessing vault............unlo...</td>\n",
       "    </tr>\n",
       "    <tr>\n",
       "      <th>654055</th>\n",
       "      <td>NaN</td>\n",
       "      <td>Fuck you too; buddy.</td>\n",
       "    </tr>\n",
       "    <tr>\n",
       "      <th>739776</th>\n",
       "      <td>NaN</td>\n",
       "      <td>jiji still shitstomps solo q against NALCS mid...</td>\n",
       "    </tr>\n",
       "    <tr>\n",
       "      <th>750918</th>\n",
       "      <td>NaN</td>\n",
       "      <td>lol I can't believe that your cat slept throug...</td>\n",
       "    </tr>\n",
       "    <tr>\n",
       "      <th>753557</th>\n",
       "      <td>NaN</td>\n",
       "      <td>Best region?</td>\n",
       "    </tr>\n",
       "    <tr>\n",
       "      <th>778552</th>\n",
       "      <td>NaN</td>\n",
       "      <td>What symbol denotes suck?</td>\n",
       "    </tr>\n",
       "    <tr>\n",
       "      <th>787209</th>\n",
       "      <td>NaN</td>\n",
       "      <td>If only it was that simple; but one fix may im...</td>\n",
       "    </tr>\n",
       "  </tbody>\n",
       "</table>\n",
       "</div>"
      ],
      "text/plain": [
       "       Comments                                    Parent Comments\n",
       "8917        NaN  Because we have chosen them as sources of mind...\n",
       "9396        NaN                                      woah; thanks.\n",
       "9469        NaN  I am just shocked an upstanding group like thi...\n",
       "39976       NaN  Bebe is a beautiful &amp; wonderfully gifted f...\n",
       "84428       NaN                                  thanks Democrats.\n",
       "88537       NaN                              Lol you didn't got it\n",
       "127616      NaN  Droids are just objectively better. Doesn't ta...\n",
       "172361      NaN   We need a sarcasm font. Or perhaps I'm a retard.\n",
       "207469      NaN                                 Will do. EU or NA?\n",
       "231580      NaN             Yes; using game features is an exploit\n",
       "289901      NaN                                 House \"of\" Commons\n",
       "312887      NaN  SERIOUSLY?! THIS IS THE FREE ITEM I GOT FOR PL...\n",
       "334963      NaN  Are you proposing that the stock market should...\n",
       "348402      NaN       Doesn't matter if that experience is garbage\n",
       "349834      NaN    Uh; what about that looks like a ghetto to you?\n",
       "364333      NaN                                         No kidding\n",
       "364928      NaN                           Your favourite lol joke?\n",
       "366544      NaN   And thus an universal sarcasm indicator is born.\n",
       "401222      NaN                                    Nah; that's Tux\n",
       "414019      NaN  Even if she is under 18 it isn't pornography. ...\n",
       "421408      NaN       Because with the newer cell it looks stupid?\n",
       "450895      NaN  Valiant sir stands up against the console dron...\n",
       "487177      NaN                                         integrity?\n",
       "491552      NaN  There probably won't be master chief Might be ...\n",
       "507437      NaN        very true; not all girls like the \"bad boy\"\n",
       "578745      NaN  I cant tell if this is sarcasm or not; but so ...\n",
       "582988      NaN  Kinda wish the article showed the bridges on t...\n",
       "587198      NaN  LPL shitshow; EU LCS shitshow. What isn't a sh...\n",
       "634685      NaN  Make sure he doesn't overdose! Too many people...\n",
       "635051      NaN  But then no one sees how many active friends y...\n",
       "638355      NaN  Pharmacists of Reddit; how much do you judge p...\n",
       "638916      NaN  if only there was a way to convey sarcasm thro...\n",
       "653687      NaN  Thu 2016-08-04 accessing vault............unlo...\n",
       "654055      NaN                               Fuck you too; buddy.\n",
       "739776      NaN  jiji still shitstomps solo q against NALCS mid...\n",
       "750918      NaN  lol I can't believe that your cat slept throug...\n",
       "753557      NaN                                       Best region?\n",
       "778552      NaN                          What symbol denotes suck?\n",
       "787209      NaN  If only it was that simple; but one fix may im..."
      ]
     },
     "execution_count": 10,
     "metadata": {},
     "output_type": "execute_result"
    }
   ],
   "source": [
    "df[['Comments','Parent Comments']][df['Comments'].isnull()]\n",
    "# where student comment is null replace it by parent comment"
   ]
  },
  {
   "cell_type": "code",
   "execution_count": 11,
   "id": "b4b63c45-e4b4-445b-a47a-0f2ff750d3e7",
   "metadata": {},
   "outputs": [
    {
     "data": {
      "text/plain": [
       "ID                  0\n",
       "Comments           39\n",
       "Parent Comments     1\n",
       " Class Labels      19\n",
       "dtype: int64"
      ]
     },
     "execution_count": 11,
     "metadata": {},
     "output_type": "execute_result"
    }
   ],
   "source": [
    "# to check for null value\n",
    "df.isnull().sum()"
   ]
  },
  {
   "cell_type": "code",
   "execution_count": 13,
   "id": "713a067d-0897-4aa5-869c-da2842a91a2c",
   "metadata": {},
   "outputs": [],
   "source": [
    "df.dropna(subset=[' Class Labels '],inplace=True)"
   ]
  },
  {
   "cell_type": "code",
   "execution_count": 14,
   "id": "7b306295-67b6-4ab4-8774-69ad5091f0f7",
   "metadata": {},
   "outputs": [
    {
     "data": {
      "text/plain": [
       "ID                  0\n",
       "Comments           39\n",
       "Parent Comments     1\n",
       " Class Labels       0\n",
       "dtype: int64"
      ]
     },
     "execution_count": 14,
     "metadata": {},
     "output_type": "execute_result"
    }
   ],
   "source": [
    "df.isnull().sum()"
   ]
  },
  {
   "cell_type": "code",
   "execution_count": 20,
   "id": "6992d3eb-a404-477a-bf59-76c1956083fb",
   "metadata": {},
   "outputs": [],
   "source": [
    "df['Comments'][df['Comments'].isnull()] = df['Parent Comments'][df['Comments'].isnull()]"
   ]
  },
  {
   "cell_type": "code",
   "execution_count": 21,
   "id": "cc2b1c98-430d-4f54-a7b2-9877a1c48cb5",
   "metadata": {},
   "outputs": [
    {
     "data": {
      "text/plain": [
       "ID                 0\n",
       "Comments           0\n",
       "Parent Comments    1\n",
       " Class Labels      0\n",
       "dtype: int64"
      ]
     },
     "execution_count": 21,
     "metadata": {},
     "output_type": "execute_result"
    }
   ],
   "source": [
    "df.isnull().sum()"
   ]
  },
  {
   "cell_type": "code",
   "execution_count": 15,
   "id": "3ebf1931-3e7b-444d-bb64-16beb428f491",
   "metadata": {},
   "outputs": [
    {
     "data": {
      "text/html": [
       "<div>\n",
       "<style scoped>\n",
       "    .dataframe tbody tr th:only-of-type {\n",
       "        vertical-align: middle;\n",
       "    }\n",
       "\n",
       "    .dataframe tbody tr th {\n",
       "        vertical-align: top;\n",
       "    }\n",
       "\n",
       "    .dataframe thead th {\n",
       "        text-align: right;\n",
       "    }\n",
       "</style>\n",
       "<table border=\"1\" class=\"dataframe\">\n",
       "  <thead>\n",
       "    <tr style=\"text-align: right;\">\n",
       "      <th></th>\n",
       "      <th>ID</th>\n",
       "      <th>Comments</th>\n",
       "      <th>Parent Comments</th>\n",
       "      <th>Class Labels</th>\n",
       "    </tr>\n",
       "  </thead>\n",
       "  <tbody>\n",
       "    <tr>\n",
       "      <th>0</th>\n",
       "      <td>ocxtitan</td>\n",
       "      <td>Central Illinois</td>\n",
       "      <td>Jesus; where do you live?</td>\n",
       "      <td>non-sarcastic</td>\n",
       "    </tr>\n",
       "    <tr>\n",
       "      <th>1</th>\n",
       "      <td>LeChuckly</td>\n",
       "      <td>To think - CNN used to be the acronym synonymo...</td>\n",
       "      <td>Even The CNN Staff Is Sick Of The Wall-To-Wall...</td>\n",
       "      <td>non-sarcastic</td>\n",
       "    </tr>\n",
       "    <tr>\n",
       "      <th>2</th>\n",
       "      <td>throwitskrub8</td>\n",
       "      <td>But then again; you have to consider that all ...</td>\n",
       "      <td>agree to that part.It can also mean that gujra...</td>\n",
       "      <td>non-sarcastic</td>\n",
       "    </tr>\n",
       "    <tr>\n",
       "      <th>3</th>\n",
       "      <td>fresherthanyouuu</td>\n",
       "      <td>ughhhhh</td>\n",
       "      <td>If a guy told you he doesn't use social media ...</td>\n",
       "      <td>non-sarcastic</td>\n",
       "    </tr>\n",
       "    <tr>\n",
       "      <th>4</th>\n",
       "      <td>_kushagra</td>\n",
       "      <td>I should've put the</td>\n",
       "      <td>No; it's just a programming bug. After all; th...</td>\n",
       "      <td>sarcastic</td>\n",
       "    </tr>\n",
       "  </tbody>\n",
       "</table>\n",
       "</div>"
      ],
      "text/plain": [
       "                 ID                                           Comments  \\\n",
       "0          ocxtitan                                   Central Illinois   \n",
       "1         LeChuckly  To think - CNN used to be the acronym synonymo...   \n",
       "2     throwitskrub8  But then again; you have to consider that all ...   \n",
       "3  fresherthanyouuu                                            ughhhhh   \n",
       "4         _kushagra                                I should've put the   \n",
       "\n",
       "                                     Parent Comments  Class Labels   \n",
       "0                          Jesus; where do you live?  non-sarcastic  \n",
       "1  Even The CNN Staff Is Sick Of The Wall-To-Wall...  non-sarcastic  \n",
       "2  agree to that part.It can also mean that gujra...  non-sarcastic  \n",
       "3  If a guy told you he doesn't use social media ...  non-sarcastic  \n",
       "4  No; it's just a programming bug. After all; th...      sarcastic  "
      ]
     },
     "execution_count": 15,
     "metadata": {},
     "output_type": "execute_result"
    }
   ],
   "source": [
    "df.head()"
   ]
  },
  {
   "cell_type": "code",
   "execution_count": 9,
   "id": "54012a43-4298-4462-bad0-3e6e1cc7cf81",
   "metadata": {},
   "outputs": [],
   "source": [
    "def preprocess_tweet_text(tweet):\n",
    "    \n",
    "    # convert all text lowercase\n",
    "    tweet = tweet.lower()\n",
    "    # remove any urls\n",
    "    tweet = re.sub(r\"www\\S+|http\\S+|\", \"\",tweet, flags = re.MULTILINE)\n",
    "    # remove square bracket including its content if\n",
    "    tweet = re.sub(r'\\[.*?\\]',\" \",tweet)\n",
    "    # to remove nos. & also including attached letters \n",
    "    tweet = re.sub(r'\\w*\\d\\w*', \"\", tweet) \n",
    "    # to remove new line character\n",
    "    tweet = re.sub(r'\\n', \" \", tweet)\n",
    "    # remove user @ references and '#' from tweet\n",
    "    tweet = re.sub(r\"\\@\\w+|\\#\", \"\",tweet)\n",
    "    # replace emojis with its meaning\n",
    "    tweet = emoji.demojize(tweet, delimiters=(\" \", \"\"))\n",
    "    tweet = tweet.replace('_',' ')\n",
    "    # remove punctuations\n",
    "    tweet = tweet.translate(str.maketrans(\"\",\"\",string.punctuation))\n",
    "    # remove stopwords\n",
    "    tweet_tokens = word_tokenize(tweet)\n",
    "    filtered_words = [word for word in tweet_tokens if word not in my_stopwords]\n",
    "    # spelling correction\n",
    "    correct_words = []\n",
    "    # initialize Speller object for english language\n",
    "    spell_corrector = Speller(lang='en')\n",
    "    for word in filtered_words:\n",
    "        correct_word = spell_corrector(word)\n",
    "        correct_words.append(correct_word)\n",
    "    # lemmatizing\n",
    "    wnl = WordNetLemmatizer()\n",
    "    lemma_words = []\n",
    "    for word, tag in pos_tag(correct_words):      # Part-of-speech constants for ADJ,VERB,ADV = 'a', 'r', 'v'\n",
    "        if tag.startswith('JJ'):      # for adjectives\n",
    "            lemma_word = wnl.lemmatize(word, pos='a')\n",
    "            lemma_words.append(lemma_word)\n",
    "        elif tag.startswith('VB'):   # for verbs\n",
    "            lemma_word = wnl.lemmatize(word, pos='v')\n",
    "            lemma_words.append(lemma_word)\n",
    "        elif tag.startswith('RB'):   # for adverbs\n",
    "            lemma_word = wnl.lemmatize(word, pos='r')\n",
    "            lemma_words.append(lemma_word)\n",
    "        else:\n",
    "            lemma_word = word\n",
    "            lemma_words.append(lemma_word)\n",
    "    \n",
    "    return \" \".join(lemma_words)"
   ]
  },
  {
   "cell_type": "code",
   "execution_count": null,
   "id": "70105c91-185b-4e1d-a626-9d7d8a7dd244",
   "metadata": {},
   "outputs": [],
   "source": []
  },
  {
   "cell_type": "code",
   "execution_count": 22,
   "id": "c757ec3f-4f99-44a1-bc8f-d18898148683",
   "metadata": {},
   "outputs": [
    {
     "name": "stdout",
     "output_type": "stream",
     "text": [
      "INFO: Pandarallel will run on 32 workers.\n",
      "INFO: Pandarallel will use Memory file system to transfer data between the main process and workers.\n"
     ]
    }
   ],
   "source": [
    "from pandarallel import pandarallel # import pandarallel\n",
    "pandarallel.initialize(progress_bar=True) # initialize pandarallel"
   ]
  },
  {
   "cell_type": "code",
   "execution_count": 11,
   "id": "b54ff5da-1492-4d14-97e4-989bf62b434c",
   "metadata": {},
   "outputs": [],
   "source": [
    "my_stopwords = ['i', 'me', 'my', 'myself', 'we', 'our', 'ours', 'ourselves', 'you', \"you're\", \"you've\", \"you'll\", \"you'd\", 'your', 'yours', 'yourself', 'yourselves', 'he', 'him', 'his', 'himself', 'she', \"she's\", 'her', 'hers', 'herself', 'it', \"it's\", 'its', 'itself', 'they', 'them', 'their', 'theirs', 'themselves', 'what', 'which', 'who', 'whom', 'this', 'that', \"that'll\", 'these', 'those', 'am', 'is', 'are', 'was', 'were', 'be', 'been', 'being', 'have', 'has', 'had', 'having', 'do', 'does', 'did', 'doing','a','an', 'the', 'and', 'if', 'or', 'because', 'as', 'while', 'of', 'at', 'by', 'for', 'with', 'about', 'between', 'into', 'through', 'during', 'before', 'after', 'above', 'below', 'to', 'from', 'up', 'down', 'in', 'out', 'on', 'off', 'over', 'under', 'again', 'further', 'then', 'once', 'here', 'there', 'when', 'where', 'why', 'how', 'all', 'any', 'both', 'each', 'few', 'more', 'most', 'other', 'some', 'such', 'only', 'own', 'same', 'so', 'than', 'too', 'very', 'can', 'will', 'just', 'should', \"should've\", 'now', 'd', 'll', 'm', 'o', 're', 've', 'y','k','yup','vaccine','now','dose']"
   ]
  },
  {
   "cell_type": "code",
   "execution_count": null,
   "id": "22021328-a68a-44f2-9e09-7d7b0df0f88c",
   "metadata": {
    "scrolled": true,
    "tags": []
   },
   "outputs": [
    {
     "data": {
      "application/vnd.jupyter.widget-view+json": {
       "model_id": "53585ad1a45c4f88b96985bca1389371",
       "version_major": 2,
       "version_minor": 0
      },
      "text/plain": [
       "VBox(children=(HBox(children=(IntProgress(value=0, description='0.00%', max=25253), Label(value='0 / 25253')))…"
      ]
     },
     "metadata": {},
     "output_type": "display_data"
    }
   ],
   "source": [
    "t = time.time()\n",
    "df2 = pd.DataFrame()\n",
    "df2['cmt_psd'] = df['Comments'].parallel_apply(preprocess_tweet_text)\n",
    "df2['parent_cmt_psd'] = df['Parent Comments'].parallel_apply(preprocess_tweet_text)\n",
    "df2.to_csv('processed.csv',index=False)\n",
    "tt = time.time() - t\n",
    "print(f'{tt} sec')"
   ]
  },
  {
   "cell_type": "code",
   "execution_count": 27,
   "id": "bce3e2c9-c882-4ebd-8911-1c6d9d38f525",
   "metadata": {},
   "outputs": [],
   "source": [
    "\n",
    "df['conct'] = df['Comments']+ df['Parent Comments']"
   ]
  },
  {
   "cell_type": "code",
   "execution_count": 29,
   "id": "c846f668-8129-4bdf-bba1-29a114dc2d84",
   "metadata": {},
   "outputs": [
    {
     "data": {
      "text/html": [
       "<div>\n",
       "<style scoped>\n",
       "    .dataframe tbody tr th:only-of-type {\n",
       "        vertical-align: middle;\n",
       "    }\n",
       "\n",
       "    .dataframe tbody tr th {\n",
       "        vertical-align: top;\n",
       "    }\n",
       "\n",
       "    .dataframe thead th {\n",
       "        text-align: right;\n",
       "    }\n",
       "</style>\n",
       "<table border=\"1\" class=\"dataframe\">\n",
       "  <thead>\n",
       "    <tr style=\"text-align: right;\">\n",
       "      <th></th>\n",
       "      <th>ID</th>\n",
       "      <th>Comments</th>\n",
       "      <th>Parent Comments</th>\n",
       "      <th>Class Labels</th>\n",
       "      <th>conct</th>\n",
       "    </tr>\n",
       "  </thead>\n",
       "  <tbody>\n",
       "    <tr>\n",
       "      <th>0</th>\n",
       "      <td>ocxtitan</td>\n",
       "      <td>Central Illinois</td>\n",
       "      <td>Jesus; where do you live?</td>\n",
       "      <td>non-sarcastic</td>\n",
       "      <td>Central IllinoisJesus; where do you live?</td>\n",
       "    </tr>\n",
       "    <tr>\n",
       "      <th>1</th>\n",
       "      <td>LeChuckly</td>\n",
       "      <td>To think - CNN used to be the acronym synonymo...</td>\n",
       "      <td>Even The CNN Staff Is Sick Of The Wall-To-Wall...</td>\n",
       "      <td>non-sarcastic</td>\n",
       "      <td>To think - CNN used to be the acronym synonymo...</td>\n",
       "    </tr>\n",
       "    <tr>\n",
       "      <th>2</th>\n",
       "      <td>throwitskrub8</td>\n",
       "      <td>But then again; you have to consider that all ...</td>\n",
       "      <td>agree to that part.It can also mean that gujra...</td>\n",
       "      <td>non-sarcastic</td>\n",
       "      <td>But then again; you have to consider that all ...</td>\n",
       "    </tr>\n",
       "    <tr>\n",
       "      <th>3</th>\n",
       "      <td>fresherthanyouuu</td>\n",
       "      <td>ughhhhh</td>\n",
       "      <td>If a guy told you he doesn't use social media ...</td>\n",
       "      <td>non-sarcastic</td>\n",
       "      <td>ughhhhhIf a guy told you he doesn't use social...</td>\n",
       "    </tr>\n",
       "    <tr>\n",
       "      <th>4</th>\n",
       "      <td>_kushagra</td>\n",
       "      <td>I should've put the</td>\n",
       "      <td>No; it's just a programming bug. After all; th...</td>\n",
       "      <td>sarcastic</td>\n",
       "      <td>I should've put theNo; it's just a programming...</td>\n",
       "    </tr>\n",
       "  </tbody>\n",
       "</table>\n",
       "</div>"
      ],
      "text/plain": [
       "                 ID                                           Comments  \\\n",
       "0          ocxtitan                                   Central Illinois   \n",
       "1         LeChuckly  To think - CNN used to be the acronym synonymo...   \n",
       "2     throwitskrub8  But then again; you have to consider that all ...   \n",
       "3  fresherthanyouuu                                            ughhhhh   \n",
       "4         _kushagra                                I should've put the   \n",
       "\n",
       "                                     Parent Comments  Class Labels   \\\n",
       "0                          Jesus; where do you live?  non-sarcastic   \n",
       "1  Even The CNN Staff Is Sick Of The Wall-To-Wall...  non-sarcastic   \n",
       "2  agree to that part.It can also mean that gujra...  non-sarcastic   \n",
       "3  If a guy told you he doesn't use social media ...  non-sarcastic   \n",
       "4  No; it's just a programming bug. After all; th...      sarcastic   \n",
       "\n",
       "                                               conct  \n",
       "0          Central IllinoisJesus; where do you live?  \n",
       "1  To think - CNN used to be the acronym synonymo...  \n",
       "2  But then again; you have to consider that all ...  \n",
       "3  ughhhhhIf a guy told you he doesn't use social...  \n",
       "4  I should've put theNo; it's just a programming...  "
      ]
     },
     "execution_count": 29,
     "metadata": {},
     "output_type": "execute_result"
    }
   ],
   "source": [
    "df.head()"
   ]
  },
  {
   "cell_type": "code",
   "execution_count": 30,
   "id": "217703ba-b9bd-4dc3-8050-5d355d925eb4",
   "metadata": {},
   "outputs": [
    {
     "data": {
      "text/plain": [
       "nan"
      ]
     },
     "execution_count": 30,
     "metadata": {},
     "output_type": "execute_result"
    }
   ],
   "source": [
    "np.nan + 5"
   ]
  },
  {
   "cell_type": "code",
   "execution_count": 31,
   "id": "9d08dc68-7085-46c9-8bec-b04111abb801",
   "metadata": {},
   "outputs": [],
   "source": [
    "s = 'ALittleLutheran,Not just masturbation; Catholic priests had mistresses at astonishing frequency; and in larger cities you frequently had prostitutes who specialized in servicing men of the cloth.,Part of his argument was that preventing priests from marrying ended up causing them to masturbate instead of being chaste.'"
   ]
  },
  {
   "cell_type": "code",
   "execution_count": 34,
   "id": "1b85dfb1-c14e-438d-84a5-c2136d43688b",
   "metadata": {},
   "outputs": [
    {
     "data": {
      "text/plain": [
       "3"
      ]
     },
     "execution_count": 34,
     "metadata": {},
     "output_type": "execute_result"
    }
   ],
   "source": [
    "len(\"marshmallowwisdom,In twenty years; she'll be Christie Wrinkley,Christie Brinkley at age 60. For realz??\".split(','))"
   ]
  },
  {
   "cell_type": "code",
   "execution_count": 54,
   "id": "2252c367-aa73-4ab6-8e1d-f6ee0e7c2e4b",
   "metadata": {},
   "outputs": [],
   "source": [
    "with open('data/project_test_data.csv','r') as f:\n",
    "    content = f.readlines()"
   ]
  },
  {
   "cell_type": "code",
   "execution_count": 55,
   "id": "01a69141-fd02-4149-bb16-facf8c31cebc",
   "metadata": {},
   "outputs": [
    {
     "data": {
      "text/plain": [
       "3"
      ]
     },
     "execution_count": 55,
     "metadata": {},
     "output_type": "execute_result"
    }
   ],
   "source": [
    "len(content[52657].split(','))"
   ]
  },
  {
   "cell_type": "code",
   "execution_count": 56,
   "id": "5574de4f-2f42-4bbe-a9ef-8f235b71863f",
   "metadata": {},
   "outputs": [
    {
     "data": {
      "text/plain": [
       "202167"
      ]
     },
     "execution_count": 56,
     "metadata": {},
     "output_type": "execute_result"
    }
   ],
   "source": [
    "len(content)"
   ]
  },
  {
   "cell_type": "code",
   "execution_count": 76,
   "id": "499c865d-859a-44df-8a64-3d407c11d257",
   "metadata": {},
   "outputs": [],
   "source": [
    "def spt(content):\n",
    "    # np.array(content)\n",
    "    content = content.split(',')\n",
    "    return content"
   ]
  },
  {
   "cell_type": "code",
   "execution_count": 77,
   "id": "574994d8-c4c8-4118-af66-995d82982a5a",
   "metadata": {},
   "outputs": [],
   "source": [
    "ct = np.vectorize(spt)"
   ]
  },
  {
   "cell_type": "code",
   "execution_count": 64,
   "id": "05e871a6-fd37-4491-aa75-460f959e6018",
   "metadata": {},
   "outputs": [
    {
     "data": {
      "text/plain": [
       "array(['ID,Comments,Parent Comments \\n',\n",
       "       'theyoungthaddeus,No one \"needs\" an assault foam dart blaster,Your son has to register those at the county jungle gym; no pmags that hold more than 12 ounces or 3 foam darts; and a class 3 must be obtained for rapid fire mode and water backpacks.\\n',\n",
       "       \"Just_an_asian_here,Cause all attractive women are uninteresting and can't provide interesting content,Likely due to creative and interesting content.\\n\",\n",
       "       ...,\n",
       "       'PrinceRuffles36,I\\'d think you\\'d have to Fuck up very badly for this to happen instead of it being a rare chance.,You know; this actually makes sense to a degree. At least the whole \"springlock suit doesn\\'t snap\" possibility. It would be neat if this happened at a 1/10;000 chance to replace the bad ending.\\n',\n",
       "       'LukeSperk,Ah yes; the game tying goal!,Same thing happened when the blues scored with 1 second left\\n',\n",
       "       'Lostforwords2,Damn; the TSA is actually keeping us safe.,Weapons Confiscated at airports\\n'],\n",
       "      dtype='<U20008')"
      ]
     },
     "execution_count": 64,
     "metadata": {},
     "output_type": "execute_result"
    }
   ],
   "source": [
    "ct(content)"
   ]
  },
  {
   "cell_type": "code",
   "execution_count": 144,
   "id": "99e576a9-05fc-4010-a147-69cdfb39de69",
   "metadata": {},
   "outputs": [],
   "source": [
    "x1 = np.loadtxt('data/project_test_data.txt',delimiter=',',comments=None,dtype = str,)"
   ]
  },
  {
   "cell_type": "code",
   "execution_count": 146,
   "id": "a2445833-e212-4cea-abbd-3ee5b198d2dd",
   "metadata": {},
   "outputs": [],
   "source": [
    "df = pd.DataFrame(x1)"
   ]
  },
  {
   "cell_type": "code",
   "execution_count": 147,
   "id": "393f79cb-2b82-4a2f-9309-946b3bf09e4c",
   "metadata": {},
   "outputs": [
    {
     "data": {
      "text/plain": [
       "0    0\n",
       "1    0\n",
       "2    0\n",
       "dtype: int64"
      ]
     },
     "execution_count": 147,
     "metadata": {},
     "output_type": "execute_result"
    }
   ],
   "source": [
    "df.isnull().sum()"
   ]
  },
  {
   "cell_type": "code",
   "execution_count": 107,
   "id": "d18defb3-e01d-4844-ac0e-91f4de7bed9d",
   "metadata": {},
   "outputs": [
    {
     "data": {
      "text/plain": [
       "(202167, 3)"
      ]
     },
     "execution_count": 107,
     "metadata": {},
     "output_type": "execute_result"
    }
   ],
   "source": [
    "x1.shape"
   ]
  },
  {
   "cell_type": "code",
   "execution_count": 112,
   "id": "6571c14c-8c0e-4f8d-82b3-829a25eafe1b",
   "metadata": {},
   "outputs": [
    {
     "ename": "MemoryError",
     "evalue": "Unable to allocate 486. GiB for an array with shape (808662, 4) and data type <U40301",
     "output_type": "error",
     "traceback": [
      "\u001b[0;31m---------------------------------------------------------------------------\u001b[0m",
      "\u001b[0;31mMemoryError\u001b[0m                               Traceback (most recent call last)",
      "Cell \u001b[0;32mIn [112], line 1\u001b[0m\n\u001b[0;32m----> 1\u001b[0m x2 \u001b[38;5;241m=\u001b[39m \u001b[43mnp\u001b[49m\u001b[38;5;241;43m.\u001b[39;49m\u001b[43mloadtxt\u001b[49m\u001b[43m(\u001b[49m\u001b[38;5;124;43m'\u001b[39;49m\u001b[38;5;124;43mdata/project_training_data_with_class_labels.txt\u001b[39;49m\u001b[38;5;124;43m'\u001b[39;49m\u001b[43m,\u001b[49m\u001b[43mdelimiter\u001b[49m\u001b[38;5;241;43m=\u001b[39;49m\u001b[38;5;124;43m'\u001b[39;49m\u001b[38;5;124;43m,\u001b[39;49m\u001b[38;5;124;43m'\u001b[39;49m\u001b[43m,\u001b[49m\u001b[43mcomments\u001b[49m\u001b[38;5;241;43m=\u001b[39;49m\u001b[38;5;28;43;01mNone\u001b[39;49;00m\u001b[43m,\u001b[49m\u001b[43mdtype\u001b[49m\u001b[43m \u001b[49m\u001b[38;5;241;43m=\u001b[39;49m\u001b[43m \u001b[49m\u001b[38;5;28;43mstr\u001b[39;49m\u001b[43m)\u001b[49m\n",
      "File \u001b[0;32m~/khadga_19024/khadga_19024/lib/python3.10/site-packages/numpy/lib/npyio.py:1313\u001b[0m, in \u001b[0;36mloadtxt\u001b[0;34m(fname, dtype, comments, delimiter, converters, skiprows, usecols, unpack, ndmin, encoding, max_rows, quotechar, like)\u001b[0m\n\u001b[1;32m   1310\u001b[0m \u001b[38;5;28;01mif\u001b[39;00m \u001b[38;5;28misinstance\u001b[39m(delimiter, \u001b[38;5;28mbytes\u001b[39m):\n\u001b[1;32m   1311\u001b[0m     delimiter \u001b[38;5;241m=\u001b[39m delimiter\u001b[38;5;241m.\u001b[39mdecode(\u001b[38;5;124m'\u001b[39m\u001b[38;5;124mlatin1\u001b[39m\u001b[38;5;124m'\u001b[39m)\n\u001b[0;32m-> 1313\u001b[0m arr \u001b[38;5;241m=\u001b[39m \u001b[43m_read\u001b[49m\u001b[43m(\u001b[49m\u001b[43mfname\u001b[49m\u001b[43m,\u001b[49m\u001b[43m \u001b[49m\u001b[43mdtype\u001b[49m\u001b[38;5;241;43m=\u001b[39;49m\u001b[43mdtype\u001b[49m\u001b[43m,\u001b[49m\u001b[43m \u001b[49m\u001b[43mcomment\u001b[49m\u001b[38;5;241;43m=\u001b[39;49m\u001b[43mcomment\u001b[49m\u001b[43m,\u001b[49m\u001b[43m \u001b[49m\u001b[43mdelimiter\u001b[49m\u001b[38;5;241;43m=\u001b[39;49m\u001b[43mdelimiter\u001b[49m\u001b[43m,\u001b[49m\n\u001b[1;32m   1314\u001b[0m \u001b[43m            \u001b[49m\u001b[43mconverters\u001b[49m\u001b[38;5;241;43m=\u001b[39;49m\u001b[43mconverters\u001b[49m\u001b[43m,\u001b[49m\u001b[43m \u001b[49m\u001b[43mskiplines\u001b[49m\u001b[38;5;241;43m=\u001b[39;49m\u001b[43mskiprows\u001b[49m\u001b[43m,\u001b[49m\u001b[43m \u001b[49m\u001b[43musecols\u001b[49m\u001b[38;5;241;43m=\u001b[39;49m\u001b[43musecols\u001b[49m\u001b[43m,\u001b[49m\n\u001b[1;32m   1315\u001b[0m \u001b[43m            \u001b[49m\u001b[43munpack\u001b[49m\u001b[38;5;241;43m=\u001b[39;49m\u001b[43munpack\u001b[49m\u001b[43m,\u001b[49m\u001b[43m \u001b[49m\u001b[43mndmin\u001b[49m\u001b[38;5;241;43m=\u001b[39;49m\u001b[43mndmin\u001b[49m\u001b[43m,\u001b[49m\u001b[43m \u001b[49m\u001b[43mencoding\u001b[49m\u001b[38;5;241;43m=\u001b[39;49m\u001b[43mencoding\u001b[49m\u001b[43m,\u001b[49m\n\u001b[1;32m   1316\u001b[0m \u001b[43m            \u001b[49m\u001b[43mmax_rows\u001b[49m\u001b[38;5;241;43m=\u001b[39;49m\u001b[43mmax_rows\u001b[49m\u001b[43m,\u001b[49m\u001b[43m \u001b[49m\u001b[43mquote\u001b[49m\u001b[38;5;241;43m=\u001b[39;49m\u001b[43mquotechar\u001b[49m\u001b[43m)\u001b[49m\n\u001b[1;32m   1318\u001b[0m \u001b[38;5;28;01mreturn\u001b[39;00m arr\n",
      "File \u001b[0;32m~/khadga_19024/khadga_19024/lib/python3.10/site-packages/numpy/lib/npyio.py:1017\u001b[0m, in \u001b[0;36m_read\u001b[0;34m(fname, delimiter, comment, quote, imaginary_unit, usecols, skiplines, max_rows, converters, ndmin, unpack, dtype, encoding)\u001b[0m\n\u001b[1;32m   1006\u001b[0m next_arr \u001b[38;5;241m=\u001b[39m _load_from_filelike(\n\u001b[1;32m   1007\u001b[0m     data, delimiter\u001b[38;5;241m=\u001b[39mdelimiter, comment\u001b[38;5;241m=\u001b[39mcomment, quote\u001b[38;5;241m=\u001b[39mquote,\n\u001b[1;32m   1008\u001b[0m     imaginary_unit\u001b[38;5;241m=\u001b[39mimaginary_unit,\n\u001b[0;32m   (...)\u001b[0m\n\u001b[1;32m   1012\u001b[0m     byte_converters\u001b[38;5;241m=\u001b[39mbyte_converters,\n\u001b[1;32m   1013\u001b[0m     c_byte_converters\u001b[38;5;241m=\u001b[39mc_byte_converters)\n\u001b[1;32m   1014\u001b[0m \u001b[38;5;66;03m# Cast here already.  We hope that this is better even for\u001b[39;00m\n\u001b[1;32m   1015\u001b[0m \u001b[38;5;66;03m# large files because the storage is more compact.  It could\u001b[39;00m\n\u001b[1;32m   1016\u001b[0m \u001b[38;5;66;03m# be adapted (in principle the concatenate could cast).\u001b[39;00m\n\u001b[0;32m-> 1017\u001b[0m chunks\u001b[38;5;241m.\u001b[39mappend(\u001b[43mnext_arr\u001b[49m\u001b[38;5;241;43m.\u001b[39;49m\u001b[43mastype\u001b[49m\u001b[43m(\u001b[49m\u001b[43mread_dtype_via_object_chunks\u001b[49m\u001b[43m)\u001b[49m)\n\u001b[1;32m   1019\u001b[0m skiprows \u001b[38;5;241m=\u001b[39m \u001b[38;5;241m0\u001b[39m  \u001b[38;5;66;03m# Only have to skip for first chunk\u001b[39;00m\n\u001b[1;32m   1020\u001b[0m \u001b[38;5;28;01mif\u001b[39;00m max_rows \u001b[38;5;241m>\u001b[39m\u001b[38;5;241m=\u001b[39m \u001b[38;5;241m0\u001b[39m:\n",
      "\u001b[0;31mMemoryError\u001b[0m: Unable to allocate 486. GiB for an array with shape (808662, 4) and data type <U40301"
     ]
    }
   ],
   "source": [
    "# x2 = np.loadtxt('data/project_training_data_with_class_labels.txt',delimiter=',',comments=None,dtype = str)"
   ]
  },
  {
   "cell_type": "code",
   "execution_count": 205,
   "id": "120f1ad4-7f33-4ce7-a1c1-7c90a42780ea",
   "metadata": {},
   "outputs": [],
   "source": [
    "df = pd.read_csv('data/project_training_data_with_class_labels.csv',dtype=str,delimiter=',',engine='python',na_filter=False,quoting=3)"
   ]
  },
  {
   "cell_type": "code",
   "execution_count": 206,
   "id": "70b05f3c-cef1-469c-be59-aa4dc1b866b3",
   "metadata": {},
   "outputs": [
    {
     "data": {
      "text/plain": [
       "ID                 0\n",
       "Comments           0\n",
       "Parent Comments    0\n",
       " Class Labels      0\n",
       "dtype: int64"
      ]
     },
     "execution_count": 206,
     "metadata": {},
     "output_type": "execute_result"
    }
   ],
   "source": [
    "df.isna().sum()"
   ]
  },
  {
   "cell_type": "code",
   "execution_count": 207,
   "id": "81cc01da-d86e-403a-915f-f63a78fa2844",
   "metadata": {},
   "outputs": [],
   "source": [
    "df2= df.replace(to_replace = '', value = np.nan, regex = True)"
   ]
  },
  {
   "cell_type": "code",
   "execution_count": 208,
   "id": "e8d66c1c-fa0e-4aaf-bfa4-b9706de28337",
   "metadata": {},
   "outputs": [
    {
     "data": {
      "text/plain": [
       "ID                  0\n",
       "Comments           38\n",
       "Parent Comments     0\n",
       " Class Labels       0\n",
       "dtype: int64"
      ]
     },
     "execution_count": 208,
     "metadata": {},
     "output_type": "execute_result"
    }
   ],
   "source": [
    "df2.isna().sum()"
   ]
  },
  {
   "cell_type": "code",
   "execution_count": 209,
   "id": "62874556-0d3d-4ea4-bc2b-d03b5bdaad66",
   "metadata": {},
   "outputs": [
    {
     "data": {
      "text/plain": [
       "''"
      ]
     },
     "execution_count": 209,
     "metadata": {},
     "output_type": "execute_result"
    }
   ],
   "source": [
    "df.iloc[8917]['Comments']"
   ]
  },
  {
   "cell_type": "code",
   "execution_count": 171,
   "id": "380195f8-07c0-4b2b-b799-60b38409198d",
   "metadata": {},
   "outputs": [
    {
     "data": {
      "text/html": [
       "<div>\n",
       "<style scoped>\n",
       "    .dataframe tbody tr th:only-of-type {\n",
       "        vertical-align: middle;\n",
       "    }\n",
       "\n",
       "    .dataframe tbody tr th {\n",
       "        vertical-align: top;\n",
       "    }\n",
       "\n",
       "    .dataframe thead th {\n",
       "        text-align: right;\n",
       "    }\n",
       "</style>\n",
       "<table border=\"1\" class=\"dataframe\">\n",
       "  <thead>\n",
       "    <tr style=\"text-align: right;\">\n",
       "      <th></th>\n",
       "      <th>Comments</th>\n",
       "      <th>Parent Comments</th>\n",
       "    </tr>\n",
       "  </thead>\n",
       "  <tbody>\n",
       "    <tr>\n",
       "      <th>8917</th>\n",
       "      <td>NaN</td>\n",
       "      <td>Because we have chosen them as sources of mind...</td>\n",
       "    </tr>\n",
       "    <tr>\n",
       "      <th>9396</th>\n",
       "      <td>NaN</td>\n",
       "      <td>woah; thanks.</td>\n",
       "    </tr>\n",
       "    <tr>\n",
       "      <th>9469</th>\n",
       "      <td>NaN</td>\n",
       "      <td>I am just shocked an upstanding group like thi...</td>\n",
       "    </tr>\n",
       "    <tr>\n",
       "      <th>39983</th>\n",
       "      <td>NaN</td>\n",
       "      <td>Bebe is a beautiful &amp;amp; wonderfully gifted f...</td>\n",
       "    </tr>\n",
       "    <tr>\n",
       "      <th>84496</th>\n",
       "      <td>NaN</td>\n",
       "      <td>thanks Democrats.</td>\n",
       "    </tr>\n",
       "    <tr>\n",
       "      <th>88605</th>\n",
       "      <td>NaN</td>\n",
       "      <td>Lol you didn't got it</td>\n",
       "    </tr>\n",
       "    <tr>\n",
       "      <th>127741</th>\n",
       "      <td>NaN</td>\n",
       "      <td>Droids are just objectively better. Doesn't ta...</td>\n",
       "    </tr>\n",
       "    <tr>\n",
       "      <th>172517</th>\n",
       "      <td>NaN</td>\n",
       "      <td>We need a sarcasm font. Or perhaps I'm a retard.</td>\n",
       "    </tr>\n",
       "    <tr>\n",
       "      <th>207639</th>\n",
       "      <td>NaN</td>\n",
       "      <td>Will do. EU or NA?</td>\n",
       "    </tr>\n",
       "    <tr>\n",
       "      <th>231778</th>\n",
       "      <td>NaN</td>\n",
       "      <td>Yes; using game features is an exploit</td>\n",
       "    </tr>\n",
       "    <tr>\n",
       "      <th>313127</th>\n",
       "      <td>NaN</td>\n",
       "      <td>SERIOUSLY?! THIS IS THE FREE ITEM I GOT FOR PL...</td>\n",
       "    </tr>\n",
       "    <tr>\n",
       "      <th>335204</th>\n",
       "      <td>NaN</td>\n",
       "      <td>Are you proposing that the stock market should...</td>\n",
       "    </tr>\n",
       "    <tr>\n",
       "      <th>348658</th>\n",
       "      <td>NaN</td>\n",
       "      <td>Doesn't matter if that experience is garbage</td>\n",
       "    </tr>\n",
       "    <tr>\n",
       "      <th>350090</th>\n",
       "      <td>NaN</td>\n",
       "      <td>Uh; what about that looks like a ghetto to you?</td>\n",
       "    </tr>\n",
       "    <tr>\n",
       "      <th>364609</th>\n",
       "      <td>NaN</td>\n",
       "      <td>No kidding</td>\n",
       "    </tr>\n",
       "    <tr>\n",
       "      <th>365204</th>\n",
       "      <td>NaN</td>\n",
       "      <td>Your favourite lol joke?</td>\n",
       "    </tr>\n",
       "    <tr>\n",
       "      <th>366828</th>\n",
       "      <td>NaN</td>\n",
       "      <td>And thus an universal sarcasm indicator is born.</td>\n",
       "    </tr>\n",
       "    <tr>\n",
       "      <th>401560</th>\n",
       "      <td>NaN</td>\n",
       "      <td>Nah; that's Tux</td>\n",
       "    </tr>\n",
       "    <tr>\n",
       "      <th>414381</th>\n",
       "      <td>NaN</td>\n",
       "      <td>Even if she is under 18 it isn't pornography. ...</td>\n",
       "    </tr>\n",
       "    <tr>\n",
       "      <th>421770</th>\n",
       "      <td>NaN</td>\n",
       "      <td>Because with the newer cell it looks stupid?</td>\n",
       "    </tr>\n",
       "    <tr>\n",
       "      <th>451261</th>\n",
       "      <td>NaN</td>\n",
       "      <td>Valiant sir stands up against the console dron...</td>\n",
       "    </tr>\n",
       "    <tr>\n",
       "      <th>487554</th>\n",
       "      <td>NaN</td>\n",
       "      <td>integrity?</td>\n",
       "    </tr>\n",
       "    <tr>\n",
       "      <th>491936</th>\n",
       "      <td>NaN</td>\n",
       "      <td>There probably won't be master chief Might be ...</td>\n",
       "    </tr>\n",
       "    <tr>\n",
       "      <th>507847</th>\n",
       "      <td>NaN</td>\n",
       "      <td>very true; not all girls like the \"bad boy\"</td>\n",
       "    </tr>\n",
       "    <tr>\n",
       "      <th>579172</th>\n",
       "      <td>NaN</td>\n",
       "      <td>I cant tell if this is sarcasm or not; but so ...</td>\n",
       "    </tr>\n",
       "    <tr>\n",
       "      <th>583415</th>\n",
       "      <td>NaN</td>\n",
       "      <td>Kinda wish the article showed the bridges on t...</td>\n",
       "    </tr>\n",
       "    <tr>\n",
       "      <th>587625</th>\n",
       "      <td>NaN</td>\n",
       "      <td>LPL shitshow; EU LCS shitshow. What isn't a sh...</td>\n",
       "    </tr>\n",
       "    <tr>\n",
       "      <th>635137</th>\n",
       "      <td>NaN</td>\n",
       "      <td>Make sure he doesn't overdose! Too many people...</td>\n",
       "    </tr>\n",
       "    <tr>\n",
       "      <th>635503</th>\n",
       "      <td>NaN</td>\n",
       "      <td>But then no one sees how many active friends y...</td>\n",
       "    </tr>\n",
       "    <tr>\n",
       "      <th>638807</th>\n",
       "      <td>NaN</td>\n",
       "      <td>Pharmacists of Reddit; how much do you judge p...</td>\n",
       "    </tr>\n",
       "    <tr>\n",
       "      <th>639368</th>\n",
       "      <td>NaN</td>\n",
       "      <td>if only there was a way to convey sarcasm thro...</td>\n",
       "    </tr>\n",
       "    <tr>\n",
       "      <th>654154</th>\n",
       "      <td>NaN</td>\n",
       "      <td>Thu 2016-08-04 accessing vault............unlo...</td>\n",
       "    </tr>\n",
       "    <tr>\n",
       "      <th>654522</th>\n",
       "      <td>NaN</td>\n",
       "      <td>Fuck you too; buddy.</td>\n",
       "    </tr>\n",
       "    <tr>\n",
       "      <th>740309</th>\n",
       "      <td>NaN</td>\n",
       "      <td>jiji still shitstomps solo q against NALCS mid...</td>\n",
       "    </tr>\n",
       "    <tr>\n",
       "      <th>751471</th>\n",
       "      <td>NaN</td>\n",
       "      <td>lol I can't believe that your cat slept throug...</td>\n",
       "    </tr>\n",
       "    <tr>\n",
       "      <th>754110</th>\n",
       "      <td>NaN</td>\n",
       "      <td>Best region?</td>\n",
       "    </tr>\n",
       "    <tr>\n",
       "      <th>779110</th>\n",
       "      <td>NaN</td>\n",
       "      <td>What symbol denotes suck?</td>\n",
       "    </tr>\n",
       "    <tr>\n",
       "      <th>787767</th>\n",
       "      <td>NaN</td>\n",
       "      <td>If only it was that simple; but one fix may im...</td>\n",
       "    </tr>\n",
       "  </tbody>\n",
       "</table>\n",
       "</div>"
      ],
      "text/plain": [
       "       Comments                                    Parent Comments\n",
       "8917        NaN  Because we have chosen them as sources of mind...\n",
       "9396        NaN                                      woah; thanks.\n",
       "9469        NaN  I am just shocked an upstanding group like thi...\n",
       "39983       NaN  Bebe is a beautiful &amp; wonderfully gifted f...\n",
       "84496       NaN                                  thanks Democrats.\n",
       "88605       NaN                              Lol you didn't got it\n",
       "127741      NaN  Droids are just objectively better. Doesn't ta...\n",
       "172517      NaN   We need a sarcasm font. Or perhaps I'm a retard.\n",
       "207639      NaN                                 Will do. EU or NA?\n",
       "231778      NaN             Yes; using game features is an exploit\n",
       "313127      NaN  SERIOUSLY?! THIS IS THE FREE ITEM I GOT FOR PL...\n",
       "335204      NaN  Are you proposing that the stock market should...\n",
       "348658      NaN       Doesn't matter if that experience is garbage\n",
       "350090      NaN    Uh; what about that looks like a ghetto to you?\n",
       "364609      NaN                                         No kidding\n",
       "365204      NaN                           Your favourite lol joke?\n",
       "366828      NaN   And thus an universal sarcasm indicator is born.\n",
       "401560      NaN                                    Nah; that's Tux\n",
       "414381      NaN  Even if she is under 18 it isn't pornography. ...\n",
       "421770      NaN       Because with the newer cell it looks stupid?\n",
       "451261      NaN  Valiant sir stands up against the console dron...\n",
       "487554      NaN                                         integrity?\n",
       "491936      NaN  There probably won't be master chief Might be ...\n",
       "507847      NaN        very true; not all girls like the \"bad boy\"\n",
       "579172      NaN  I cant tell if this is sarcasm or not; but so ...\n",
       "583415      NaN  Kinda wish the article showed the bridges on t...\n",
       "587625      NaN  LPL shitshow; EU LCS shitshow. What isn't a sh...\n",
       "635137      NaN  Make sure he doesn't overdose! Too many people...\n",
       "635503      NaN  But then no one sees how many active friends y...\n",
       "638807      NaN  Pharmacists of Reddit; how much do you judge p...\n",
       "639368      NaN  if only there was a way to convey sarcasm thro...\n",
       "654154      NaN  Thu 2016-08-04 accessing vault............unlo...\n",
       "654522      NaN                               Fuck you too; buddy.\n",
       "740309      NaN  jiji still shitstomps solo q against NALCS mid...\n",
       "751471      NaN  lol I can't believe that your cat slept throug...\n",
       "754110      NaN                                       Best region?\n",
       "779110      NaN                          What symbol denotes suck?\n",
       "787767      NaN  If only it was that simple; but one fix may im..."
      ]
     },
     "execution_count": 171,
     "metadata": {},
     "output_type": "execute_result"
    }
   ],
   "source": [
    "df[['Comments','Parent Comments']][df['Comments'].isnull()]"
   ]
  },
  {
   "cell_type": "code",
   "execution_count": 140,
   "id": "c14ca7ba-d64f-48a8-99a5-7c40a6b12af8",
   "metadata": {},
   "outputs": [
    {
     "name": "stdout",
     "output_type": "stream",
     "text": [
      "<class 'pandas.core.frame.DataFrame'>\n",
      "RangeIndex: 808661 entries, 0 to 808660\n",
      "Data columns (total 4 columns):\n",
      " #   Column           Non-Null Count   Dtype \n",
      "---  ------           --------------   ----- \n",
      " 0   ID               808661 non-null  object\n",
      " 1   Comments         808661 non-null  object\n",
      " 2   Parent Comments  808661 non-null  object\n",
      " 3    Class Labels    808661 non-null  object\n",
      "dtypes: object(4)\n",
      "memory usage: 24.7+ MB\n"
     ]
    }
   ],
   "source": [
    "df.info()"
   ]
  },
  {
   "cell_type": "code",
   "execution_count": 141,
   "id": "ce9c1b3a-231e-457b-ba5a-6076f3165ceb",
   "metadata": {},
   "outputs": [],
   "source": [
    "df = pd.read_csv('data/project_test_data.csv',dtype=str,delimiter=',',na_filter=False,quoting=3)"
   ]
  },
  {
   "cell_type": "code",
   "execution_count": 142,
   "id": "c5b04e4d-262c-4c25-9632-0b9fcc691d0f",
   "metadata": {},
   "outputs": [
    {
     "name": "stdout",
     "output_type": "stream",
     "text": [
      "<class 'pandas.core.frame.DataFrame'>\n",
      "RangeIndex: 202166 entries, 0 to 202165\n",
      "Data columns (total 3 columns):\n",
      " #   Column            Non-Null Count   Dtype \n",
      "---  ------            --------------   ----- \n",
      " 0   ID                202166 non-null  object\n",
      " 1   Comments          202166 non-null  object\n",
      " 2   Parent Comments   202166 non-null  object\n",
      "dtypes: object(3)\n",
      "memory usage: 4.6+ MB\n"
     ]
    }
   ],
   "source": [
    "df.info()"
   ]
  },
  {
   "cell_type": "code",
   "execution_count": 131,
   "id": "a79401bc-2c29-4256-a677-13d995f622d7",
   "metadata": {},
   "outputs": [
    {
     "data": {
      "text/plain": [
       "array(['non-sarcastic', 'sarcastic'], dtype=object)"
      ]
     },
     "execution_count": 131,
     "metadata": {},
     "output_type": "execute_result"
    }
   ],
   "source": [
    "df[' Class Labels '].unique()"
   ]
  },
  {
   "cell_type": "code",
   "execution_count": 99,
   "id": "54881f76-7062-4b36-9d24-1126294b3e81",
   "metadata": {},
   "outputs": [],
   "source": [
    "# x = np.genfromtxt('data/project_test_data.txt',dtype=str,delimiter='\\n',deletechars=None)"
   ]
  },
  {
   "cell_type": "code",
   "execution_count": 100,
   "id": "5e897258-4285-4885-a3b1-f0d31d425422",
   "metadata": {},
   "outputs": [
    {
     "data": {
      "text/plain": [
       "(202167,)"
      ]
     },
     "execution_count": 100,
     "metadata": {},
     "output_type": "execute_result"
    }
   ],
   "source": [
    "# x.shape"
   ]
  },
  {
   "cell_type": "code",
   "execution_count": 101,
   "id": "45e9d063-8b6d-4206-954d-a22fd88f72e3",
   "metadata": {},
   "outputs": [],
   "source": [
    "# y = np.char.split(x,sep=',')"
   ]
  },
  {
   "cell_type": "code",
   "execution_count": 102,
   "id": "fa0a9036-c415-4541-8b9d-012a7a3e786f",
   "metadata": {},
   "outputs": [
    {
     "data": {
      "text/plain": [
       "(202167,)"
      ]
     },
     "execution_count": 102,
     "metadata": {},
     "output_type": "execute_result"
    }
   ],
   "source": [
    "# y.shape"
   ]
  },
  {
   "cell_type": "code",
   "execution_count": 103,
   "id": "6d2aa5ee-d803-43cb-98b7-a7c495993d15",
   "metadata": {},
   "outputs": [
    {
     "ename": "ValueError",
     "evalue": "all input arrays must have the same shape",
     "output_type": "error",
     "traceback": [
      "\u001b[0;31m---------------------------------------------------------------------------\u001b[0m",
      "\u001b[0;31mValueError\u001b[0m                                Traceback (most recent call last)",
      "Cell \u001b[0;32mIn [103], line 1\u001b[0m\n\u001b[0;32m----> 1\u001b[0m y2 \u001b[38;5;241m=\u001b[39m \u001b[43mnp\u001b[49m\u001b[38;5;241;43m.\u001b[39;49m\u001b[43mstack\u001b[49m\u001b[43m(\u001b[49m\u001b[43my\u001b[49m\u001b[43m)\u001b[49m\n",
      "File \u001b[0;32m<__array_function__ internals>:180\u001b[0m, in \u001b[0;36mstack\u001b[0;34m(*args, **kwargs)\u001b[0m\n",
      "File \u001b[0;32m~/khadga_19024/khadga_19024/lib/python3.10/site-packages/numpy/core/shape_base.py:426\u001b[0m, in \u001b[0;36mstack\u001b[0;34m(arrays, axis, out)\u001b[0m\n\u001b[1;32m    424\u001b[0m shapes \u001b[38;5;241m=\u001b[39m {arr\u001b[38;5;241m.\u001b[39mshape \u001b[38;5;28;01mfor\u001b[39;00m arr \u001b[38;5;129;01min\u001b[39;00m arrays}\n\u001b[1;32m    425\u001b[0m \u001b[38;5;28;01mif\u001b[39;00m \u001b[38;5;28mlen\u001b[39m(shapes) \u001b[38;5;241m!=\u001b[39m \u001b[38;5;241m1\u001b[39m:\n\u001b[0;32m--> 426\u001b[0m     \u001b[38;5;28;01mraise\u001b[39;00m \u001b[38;5;167;01mValueError\u001b[39;00m(\u001b[38;5;124m'\u001b[39m\u001b[38;5;124mall input arrays must have the same shape\u001b[39m\u001b[38;5;124m'\u001b[39m)\n\u001b[1;32m    428\u001b[0m result_ndim \u001b[38;5;241m=\u001b[39m arrays[\u001b[38;5;241m0\u001b[39m]\u001b[38;5;241m.\u001b[39mndim \u001b[38;5;241m+\u001b[39m \u001b[38;5;241m1\u001b[39m\n\u001b[1;32m    429\u001b[0m axis \u001b[38;5;241m=\u001b[39m normalize_axis_index(axis, result_ndim)\n",
      "\u001b[0;31mValueError\u001b[0m: all input arrays must have the same shape"
     ]
    }
   ],
   "source": [
    "# y2 = np.stack(y)"
   ]
  },
  {
   "cell_type": "code",
   "execution_count": 110,
   "id": "d6fac54d-ac13-4ca1-88f7-2244729f18cc",
   "metadata": {},
   "outputs": [],
   "source": [
    "# for j,i in enumerate(y):\n",
    "#     if len(i) == 3:\n",
    "#         continue\n",
    "#     else:\n",
    "#         print(j,i)"
   ]
  },
  {
   "cell_type": "code",
   "execution_count": null,
   "id": "4ae8abc5-76a4-4e04-aaa8-b30371a1e000",
   "metadata": {},
   "outputs": [],
   "source": [
    "[',,','\\n,',',\\n']"
   ]
  }
 ],
 "metadata": {
  "kernelspec": {
   "display_name": "Python 3 (ipykernel)",
   "language": "python",
   "name": "python3"
  },
  "language_info": {
   "codemirror_mode": {
    "name": "ipython",
    "version": 3
   },
   "file_extension": ".py",
   "mimetype": "text/x-python",
   "name": "python",
   "nbconvert_exporter": "python",
   "pygments_lexer": "ipython3",
   "version": "3.10.4"
  }
 },
 "nbformat": 4,
 "nbformat_minor": 5
}
